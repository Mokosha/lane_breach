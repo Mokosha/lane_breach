{
 "cells": [
  {
   "cell_type": "markdown",
   "metadata": {},
   "source": [
    "### In this notebook I'm figuring out how to pull down data from the dynamodb Alex is dumping data into from SF Open Data.\n",
    "### I also do some basic inspection for insights."
   ]
  },
  {
   "cell_type": "code",
   "execution_count": 13,
   "metadata": {},
   "outputs": [],
   "source": [
    "import boto3\n",
    "import json\n",
    "from config import access_key, secret_access_key\n",
    "from boto3.dynamodb.conditions import Key, Attr\n",
    "\n",
    "import pandas as pd\n",
    "import datetime\n",
    "import matplotlib.pyplot as plt\n",
    "import seaborn as sns\n",
    "%matplotlib inline"
   ]
  },
  {
   "cell_type": "code",
   "execution_count": 3,
   "metadata": {},
   "outputs": [],
   "source": [
    "session = boto3.Session(\n",
    "    aws_access_key_id=access_key,\n",
    "    aws_secret_access_key=secret_access_key,\n",
    "    region_name='us-west-2'\n",
    ")"
   ]
  },
  {
   "cell_type": "code",
   "execution_count": 4,
   "metadata": {},
   "outputs": [],
   "source": [
    "dynamodb = session.resource('dynamodb')"
   ]
  },
  {
   "cell_type": "code",
   "execution_count": 5,
   "metadata": {},
   "outputs": [],
   "source": [
    "table = dynamodb.Table('BikeLaneReports')"
   ]
  },
  {
   "cell_type": "code",
   "execution_count": 6,
   "metadata": {},
   "outputs": [
    {
     "name": "stdout",
     "output_type": "stream",
     "text": [
      "2018-07-19 18:58:05.346000-07:00\n"
     ]
    }
   ],
   "source": [
    "print(table.creation_date_time)"
   ]
  },
  {
   "cell_type": "markdown",
   "metadata": {},
   "source": [
    "Let's look at just district 3"
   ]
  },
  {
   "cell_type": "code",
   "execution_count": 7,
   "metadata": {},
   "outputs": [],
   "source": [
    "response = table.scan(\n",
    "    FilterExpression=Attr('supervisor_district').lt('3')\n",
    ")\n",
    "items = response['Items']"
   ]
  },
  {
   "cell_type": "code",
   "execution_count": 8,
   "metadata": {},
   "outputs": [
    {
     "data": {
      "text/plain": [
       "dict_keys(['Items', 'Count', 'ScannedCount', 'ResponseMetadata'])"
      ]
     },
     "execution_count": 8,
     "metadata": {},
     "output_type": "execute_result"
    }
   ],
   "source": [
    "response.keys()"
   ]
  },
  {
   "cell_type": "code",
   "execution_count": 9,
   "metadata": {},
   "outputs": [
    {
     "data": {
      "text/plain": [
       "23"
      ]
     },
     "execution_count": 9,
     "metadata": {},
     "output_type": "execute_result"
    }
   ],
   "source": [
    "len(items)"
   ]
  },
  {
   "cell_type": "code",
   "execution_count": 10,
   "metadata": {},
   "outputs": [
    {
     "data": {
      "text/plain": [
       "{'address': '2198 OAKDALE AVE, SAN FRANCISCO, CA, 94124',\n",
       " 'agency_responsible': 'Parking Enforcement Review Queue',\n",
       " 'closed_date': '2018-07-05T13:58:19.000',\n",
       " 'image_parsed': False,\n",
       " 'lat': '37.74072',\n",
       " 'long': '-122.4011',\n",
       " 'media_url': 'http://mobile311.sfgov.org/media/san_francisco/report/photos/5b3e865352465b25131793ec/report.jpg',\n",
       " 'neighborhoods_sffind_boundaries': 'Produce Market',\n",
       " 'point': {'coordinates': [Decimal('-122.40121375'), Decimal('37.74092019')],\n",
       "  'type': 'Point'},\n",
       " 'police_district': 'BAYVIEW',\n",
       " 'requested_datetime': '2018-07-05T13:58:16.000',\n",
       " 's3_media_url': 'https://s3-us-west-1.amazonaws.com/lane-breach/311-sf/images/9228341.png',\n",
       " 'service_details': 'Parking Enforcement',\n",
       " 'service_name': 'Parking Enforcement',\n",
       " 'service_request_id': '9228341',\n",
       " 'service_subtype': 'Blocking_Bicycle_Lane',\n",
       " 'source': 'Mobile/Open311',\n",
       " 'status_description': 'Closed',\n",
       " 'status_notes': 'The report has been logged and will help the City collect data on double parking and bike lane violations to determine target areas and future enforcement efforts. Thank you.',\n",
       " 'supervisor_district': '10',\n",
       " 'updated_datetime': '2018-07-05T13:58:19.000'}"
      ]
     },
     "execution_count": 10,
     "metadata": {},
     "output_type": "execute_result"
    }
   ],
   "source": [
    "items[0]"
   ]
  },
  {
   "cell_type": "markdown",
   "metadata": {},
   "source": [
    "Actually, this data is quite small. Let's just pull it all down, json --> dataframe, and explore in pandas"
   ]
  },
  {
   "cell_type": "code",
   "execution_count": 11,
   "metadata": {},
   "outputs": [],
   "source": [
    "response = table.scan()\n",
    "items = response['Items']"
   ]
  },
  {
   "cell_type": "code",
   "execution_count": 12,
   "metadata": {},
   "outputs": [
    {
     "data": {
      "text/plain": [
       "298"
      ]
     },
     "execution_count": 12,
     "metadata": {},
     "output_type": "execute_result"
    }
   ],
   "source": [
    "len(items)"
   ]
  },
  {
   "cell_type": "code",
   "execution_count": 15,
   "metadata": {},
   "outputs": [],
   "source": [
    "reports = pd.DataFrame.from_dict(items)"
   ]
  },
  {
   "cell_type": "code",
   "execution_count": 16,
   "metadata": {},
   "outputs": [
    {
     "data": {
      "text/plain": [
       "Index(['address', 'agency_responsible', 'closed_date', 'image_parsed', 'lat',\n",
       "       'long', 'media_url', 'neighborhoods_sffind_boundaries', 'point',\n",
       "       'police_district', 'requested_datetime', 's3_media_url',\n",
       "       'service_details', 'service_name', 'service_request_id',\n",
       "       'service_subtype', 'source', 'status_description', 'status_notes',\n",
       "       'supervisor_district', 'updated_datetime'],\n",
       "      dtype='object')"
      ]
     },
     "execution_count": 16,
     "metadata": {},
     "output_type": "execute_result"
    }
   ],
   "source": [
    "reports.columns"
   ]
  },
  {
   "cell_type": "markdown",
   "metadata": {},
   "source": [
    "### Ok this isn't complete, we just have July 3 through 24 right now. \n",
    "- I think \"closed_date\" must just be \"reported date\"?"
   ]
  },
  {
   "cell_type": "code",
   "execution_count": 18,
   "metadata": {},
   "outputs": [
    {
     "data": {
      "text/plain": [
       "('2018-07-03T07:47:26.000', '2018-07-24T12:23:03.000')"
      ]
     },
     "execution_count": 18,
     "metadata": {},
     "output_type": "execute_result"
    }
   ],
   "source": [
    "reports['closed_date'].min(), reports['closed_date'].max()"
   ]
  },
  {
   "cell_type": "code",
   "execution_count": 19,
   "metadata": {},
   "outputs": [],
   "source": [
    "reports['datestr'] = reports['closed_date'].apply(lambda t: t.split('T')[0])\n",
    "reports['date'] = reports['datestr'].apply(lambda t: datetime.datetime.strptime(t, '%Y-%m-%d'))\n",
    "reports['time'] = reports['closed_date'].apply(lambda t: t.split('T')[1].split('.')[0])\n",
    "reports['hour'] = reports['time'].apply(lambda t: int(t.split(':')[0]))"
   ]
  },
  {
   "cell_type": "markdown",
   "metadata": {},
   "source": [
    "Hacky cleaning up of address to get street name most of the time    "
   ]
  },
  {
   "cell_type": "code",
   "execution_count": 22,
   "metadata": {},
   "outputs": [],
   "source": [
    "def getst(addr):\n",
    "    weird_ones = ['EMBARCADERO','Rainbow Falls','GOODLETT']\n",
    "    for w in weird_ones:\n",
    "        if w in addr:\n",
    "            return w\n",
    "    st_types = [' ST',' BLVD',' AVE',' RD',' PL', ' DR']\n",
    "    for t in st_types:\n",
    "        addr = addr.split(t)[0]\n",
    "    return addr.split(' ')[-1]"
   ]
  },
  {
   "cell_type": "code",
   "execution_count": 23,
   "metadata": {},
   "outputs": [],
   "source": [
    "reports['street'] = reports['address'].apply(getst)"
   ]
  },
  {
   "cell_type": "code",
   "execution_count": 24,
   "metadata": {},
   "outputs": [
    {
     "data": {
      "text/plain": [
       "{'11TH',\n",
       " '14TH',\n",
       " '17TH',\n",
       " '1ST',\n",
       " '25TH',\n",
       " '37TH',\n",
       " '6TH',\n",
       " '7TH',\n",
       " '8TH',\n",
       " 'ALEMANY',\n",
       " 'ARGUELLO',\n",
       " 'BAKER',\n",
       " 'BASIN',\n",
       " 'BAY',\n",
       " 'BEALE',\n",
       " 'BUCHANAN',\n",
       " 'CHAVEZ',\n",
       " 'DIVISION',\n",
       " 'EMBARCADERO',\n",
       " 'EUCLID',\n",
       " 'FOLSOM',\n",
       " 'FULTON',\n",
       " 'GATE',\n",
       " 'GOODLETT',\n",
       " 'GRACE',\n",
       " 'GROVE',\n",
       " 'HOWARD',\n",
       " 'JERROLD',\n",
       " 'JESSIE',\n",
       " 'JOSE',\n",
       " 'KING',\n",
       " 'KIRKHAM',\n",
       " 'MARKET',\n",
       " 'MASONIC',\n",
       " 'MISSION',\n",
       " 'MOSS',\n",
       " 'NESS',\n",
       " 'OAK',\n",
       " 'OAKDALE',\n",
       " 'POLK',\n",
       " 'PORTOLA',\n",
       " 'POTRERO',\n",
       " 'Rainbow Falls',\n",
       " 'SLOAT',\n",
       " 'SPARROW',\n",
       " 'TOWNSEND',\n",
       " 'VALENCIA',\n",
       " 'WEBSTER'}"
      ]
     },
     "execution_count": 24,
     "metadata": {},
     "output_type": "execute_result"
    }
   ],
   "source": [
    "set(reports['street'])"
   ]
  },
  {
   "cell_type": "markdown",
   "metadata": {},
   "source": [
    "### Let's find how many reports there are by street, by district, by both, etc\n",
    "  "
   ]
  },
  {
   "cell_type": "code",
   "execution_count": 25,
   "metadata": {},
   "outputs": [],
   "source": [
    "def numreportsby(key):\n",
    "    return (reports.groupby([key])\n",
    "                  .count()['address']\n",
    "                  .reset_index()\n",
    "                  .rename(columns = {'address':'num_reports'})\n",
    "                  .sort_values('num_reports', ascending=False)\n",
    "                  .reset_index(drop=True)\n",
    "           )"
   ]
  },
  {
   "cell_type": "code",
   "execution_count": 26,
   "metadata": {},
   "outputs": [
    {
     "data": {
      "text/html": [
       "<div>\n",
       "<style scoped>\n",
       "    .dataframe tbody tr th:only-of-type {\n",
       "        vertical-align: middle;\n",
       "    }\n",
       "\n",
       "    .dataframe tbody tr th {\n",
       "        vertical-align: top;\n",
       "    }\n",
       "\n",
       "    .dataframe thead th {\n",
       "        text-align: right;\n",
       "    }\n",
       "</style>\n",
       "<table border=\"1\" class=\"dataframe\">\n",
       "  <thead>\n",
       "    <tr style=\"text-align: right;\">\n",
       "      <th></th>\n",
       "      <th>street</th>\n",
       "      <th>num_reports</th>\n",
       "    </tr>\n",
       "  </thead>\n",
       "  <tbody>\n",
       "    <tr>\n",
       "      <th>0</th>\n",
       "      <td>FOLSOM</td>\n",
       "      <td>70</td>\n",
       "    </tr>\n",
       "    <tr>\n",
       "      <th>1</th>\n",
       "      <td>VALENCIA</td>\n",
       "      <td>39</td>\n",
       "    </tr>\n",
       "    <tr>\n",
       "      <th>2</th>\n",
       "      <td>HOWARD</td>\n",
       "      <td>29</td>\n",
       "    </tr>\n",
       "    <tr>\n",
       "      <th>3</th>\n",
       "      <td>MARKET</td>\n",
       "      <td>24</td>\n",
       "    </tr>\n",
       "    <tr>\n",
       "      <th>4</th>\n",
       "      <td>EMBARCADERO</td>\n",
       "      <td>20</td>\n",
       "    </tr>\n",
       "    <tr>\n",
       "      <th>5</th>\n",
       "      <td>FULTON</td>\n",
       "      <td>10</td>\n",
       "    </tr>\n",
       "    <tr>\n",
       "      <th>6</th>\n",
       "      <td>11TH</td>\n",
       "      <td>8</td>\n",
       "    </tr>\n",
       "    <tr>\n",
       "      <th>7</th>\n",
       "      <td>17TH</td>\n",
       "      <td>8</td>\n",
       "    </tr>\n",
       "    <tr>\n",
       "      <th>8</th>\n",
       "      <td>OAKDALE</td>\n",
       "      <td>6</td>\n",
       "    </tr>\n",
       "    <tr>\n",
       "      <th>9</th>\n",
       "      <td>7TH</td>\n",
       "      <td>6</td>\n",
       "    </tr>\n",
       "  </tbody>\n",
       "</table>\n",
       "</div>"
      ],
      "text/plain": [
       "        street  num_reports\n",
       "0       FOLSOM           70\n",
       "1     VALENCIA           39\n",
       "2       HOWARD           29\n",
       "3       MARKET           24\n",
       "4  EMBARCADERO           20\n",
       "5       FULTON           10\n",
       "6         11TH            8\n",
       "7         17TH            8\n",
       "8      OAKDALE            6\n",
       "9          7TH            6"
      ]
     },
     "execution_count": 26,
     "metadata": {},
     "output_type": "execute_result"
    }
   ],
   "source": [
    "num_reports_street = numreportsby('street')\n",
    "num_reports_street.head(10)"
   ]
  },
  {
   "cell_type": "code",
   "execution_count": 27,
   "metadata": {},
   "outputs": [
    {
     "data": {
      "text/html": [
       "<div>\n",
       "<style scoped>\n",
       "    .dataframe tbody tr th:only-of-type {\n",
       "        vertical-align: middle;\n",
       "    }\n",
       "\n",
       "    .dataframe tbody tr th {\n",
       "        vertical-align: top;\n",
       "    }\n",
       "\n",
       "    .dataframe thead th {\n",
       "        text-align: right;\n",
       "    }\n",
       "</style>\n",
       "<table border=\"1\" class=\"dataframe\">\n",
       "  <thead>\n",
       "    <tr style=\"text-align: right;\">\n",
       "      <th></th>\n",
       "      <th>supervisor_district</th>\n",
       "      <th>num_reports</th>\n",
       "    </tr>\n",
       "  </thead>\n",
       "  <tbody>\n",
       "    <tr>\n",
       "      <th>0</th>\n",
       "      <td>6</td>\n",
       "      <td>127</td>\n",
       "    </tr>\n",
       "    <tr>\n",
       "      <th>1</th>\n",
       "      <td>9</td>\n",
       "      <td>51</td>\n",
       "    </tr>\n",
       "    <tr>\n",
       "      <th>2</th>\n",
       "      <td>8</td>\n",
       "      <td>44</td>\n",
       "    </tr>\n",
       "    <tr>\n",
       "      <th>3</th>\n",
       "      <td>5</td>\n",
       "      <td>31</td>\n",
       "    </tr>\n",
       "    <tr>\n",
       "      <th>4</th>\n",
       "      <td>3</td>\n",
       "      <td>18</td>\n",
       "    </tr>\n",
       "    <tr>\n",
       "      <th>5</th>\n",
       "      <td>10</td>\n",
       "      <td>17</td>\n",
       "    </tr>\n",
       "    <tr>\n",
       "      <th>6</th>\n",
       "      <td>1</td>\n",
       "      <td>3</td>\n",
       "    </tr>\n",
       "    <tr>\n",
       "      <th>7</th>\n",
       "      <td>2</td>\n",
       "      <td>3</td>\n",
       "    </tr>\n",
       "    <tr>\n",
       "      <th>8</th>\n",
       "      <td>7</td>\n",
       "      <td>3</td>\n",
       "    </tr>\n",
       "    <tr>\n",
       "      <th>9</th>\n",
       "      <td>4</td>\n",
       "      <td>1</td>\n",
       "    </tr>\n",
       "  </tbody>\n",
       "</table>\n",
       "</div>"
      ],
      "text/plain": [
       "  supervisor_district  num_reports\n",
       "0                   6          127\n",
       "1                   9           51\n",
       "2                   8           44\n",
       "3                   5           31\n",
       "4                   3           18\n",
       "5                  10           17\n",
       "6                   1            3\n",
       "7                   2            3\n",
       "8                   7            3\n",
       "9                   4            1"
      ]
     },
     "execution_count": 27,
     "metadata": {},
     "output_type": "execute_result"
    }
   ],
   "source": [
    "num_reports_supe = numreportsby('supervisor_district')\n",
    "num_reports_supe"
   ]
  },
  {
   "cell_type": "markdown",
   "metadata": {},
   "source": [
    "### Here I'm finding the 2 worst streets for every supervisor. \n",
    "- We could tweet to the supe, Hey! Folsom is your worst street -- it's been reported 39 times in X days!"
   ]
  },
  {
   "cell_type": "code",
   "execution_count": 28,
   "metadata": {},
   "outputs": [
    {
     "data": {
      "text/html": [
       "<div>\n",
       "<style scoped>\n",
       "    .dataframe tbody tr th:only-of-type {\n",
       "        vertical-align: middle;\n",
       "    }\n",
       "\n",
       "    .dataframe tbody tr th {\n",
       "        vertical-align: top;\n",
       "    }\n",
       "\n",
       "    .dataframe thead th {\n",
       "        text-align: right;\n",
       "    }\n",
       "</style>\n",
       "<table border=\"1\" class=\"dataframe\">\n",
       "  <thead>\n",
       "    <tr style=\"text-align: right;\">\n",
       "      <th></th>\n",
       "      <th>supervisor_district</th>\n",
       "      <th>street</th>\n",
       "      <th>num_reports</th>\n",
       "    </tr>\n",
       "  </thead>\n",
       "  <tbody>\n",
       "    <tr>\n",
       "      <th>0</th>\n",
       "      <td>1</td>\n",
       "      <td>ARGUELLO</td>\n",
       "      <td>2</td>\n",
       "    </tr>\n",
       "    <tr>\n",
       "      <th>1</th>\n",
       "      <td>1</td>\n",
       "      <td>Rainbow Falls</td>\n",
       "      <td>1</td>\n",
       "    </tr>\n",
       "    <tr>\n",
       "      <th>2</th>\n",
       "      <td>2</td>\n",
       "      <td>EUCLID</td>\n",
       "      <td>1</td>\n",
       "    </tr>\n",
       "    <tr>\n",
       "      <th>3</th>\n",
       "      <td>2</td>\n",
       "      <td>BAY</td>\n",
       "      <td>1</td>\n",
       "    </tr>\n",
       "    <tr>\n",
       "      <th>4</th>\n",
       "      <td>3</td>\n",
       "      <td>EMBARCADERO</td>\n",
       "      <td>15</td>\n",
       "    </tr>\n",
       "    <tr>\n",
       "      <th>5</th>\n",
       "      <td>3</td>\n",
       "      <td>POLK</td>\n",
       "      <td>2</td>\n",
       "    </tr>\n",
       "    <tr>\n",
       "      <th>6</th>\n",
       "      <td>4</td>\n",
       "      <td>37TH</td>\n",
       "      <td>1</td>\n",
       "    </tr>\n",
       "    <tr>\n",
       "      <th>7</th>\n",
       "      <td>5</td>\n",
       "      <td>FULTON</td>\n",
       "      <td>10</td>\n",
       "    </tr>\n",
       "    <tr>\n",
       "      <th>8</th>\n",
       "      <td>5</td>\n",
       "      <td>MARKET</td>\n",
       "      <td>4</td>\n",
       "    </tr>\n",
       "    <tr>\n",
       "      <th>9</th>\n",
       "      <td>6</td>\n",
       "      <td>FOLSOM</td>\n",
       "      <td>39</td>\n",
       "    </tr>\n",
       "    <tr>\n",
       "      <th>10</th>\n",
       "      <td>6</td>\n",
       "      <td>HOWARD</td>\n",
       "      <td>29</td>\n",
       "    </tr>\n",
       "    <tr>\n",
       "      <th>11</th>\n",
       "      <td>7</td>\n",
       "      <td>PORTOLA</td>\n",
       "      <td>2</td>\n",
       "    </tr>\n",
       "    <tr>\n",
       "      <th>12</th>\n",
       "      <td>7</td>\n",
       "      <td>SLOAT</td>\n",
       "      <td>1</td>\n",
       "    </tr>\n",
       "    <tr>\n",
       "      <th>13</th>\n",
       "      <td>8</td>\n",
       "      <td>VALENCIA</td>\n",
       "      <td>26</td>\n",
       "    </tr>\n",
       "    <tr>\n",
       "      <th>14</th>\n",
       "      <td>8</td>\n",
       "      <td>MARKET</td>\n",
       "      <td>12</td>\n",
       "    </tr>\n",
       "    <tr>\n",
       "      <th>15</th>\n",
       "      <td>9</td>\n",
       "      <td>FOLSOM</td>\n",
       "      <td>31</td>\n",
       "    </tr>\n",
       "    <tr>\n",
       "      <th>16</th>\n",
       "      <td>9</td>\n",
       "      <td>VALENCIA</td>\n",
       "      <td>10</td>\n",
       "    </tr>\n",
       "    <tr>\n",
       "      <th>17</th>\n",
       "      <td>10</td>\n",
       "      <td>OAKDALE</td>\n",
       "      <td>6</td>\n",
       "    </tr>\n",
       "    <tr>\n",
       "      <th>18</th>\n",
       "      <td>10</td>\n",
       "      <td>JERROLD</td>\n",
       "      <td>4</td>\n",
       "    </tr>\n",
       "  </tbody>\n",
       "</table>\n",
       "</div>"
      ],
      "text/plain": [
       "    supervisor_district         street  num_reports\n",
       "0                     1       ARGUELLO            2\n",
       "1                     1  Rainbow Falls            1\n",
       "2                     2         EUCLID            1\n",
       "3                     2            BAY            1\n",
       "4                     3    EMBARCADERO           15\n",
       "5                     3           POLK            2\n",
       "6                     4           37TH            1\n",
       "7                     5         FULTON           10\n",
       "8                     5         MARKET            4\n",
       "9                     6         FOLSOM           39\n",
       "10                    6         HOWARD           29\n",
       "11                    7        PORTOLA            2\n",
       "12                    7          SLOAT            1\n",
       "13                    8       VALENCIA           26\n",
       "14                    8         MARKET           12\n",
       "15                    9         FOLSOM           31\n",
       "16                    9       VALENCIA           10\n",
       "17                   10        OAKDALE            6\n",
       "18                   10        JERROLD            4"
      ]
     },
     "execution_count": 28,
     "metadata": {},
     "output_type": "execute_result"
    }
   ],
   "source": [
    "supestreet = (reports.groupby(['supervisor_district','street'])\n",
    "                  .count()['address']\n",
    "                  .reset_index()\n",
    "                  .rename(columns = {'address':'num_reports'})\n",
    "                  .sort_values('num_reports', ascending=False)\n",
    "                  .reset_index(drop=True)\n",
    "          )\n",
    "supestreet['supervisor_district'] = supestreet['supervisor_district'].astype(int)\n",
    "top2_per_supe = (supestreet.groupby('supervisor_district')\n",
    "                           .head(2)\n",
    "                           .sort_values(['supervisor_district','num_reports'],\n",
    "                                        ascending=(True, False))\n",
    "                           .reset_index(drop=True)\n",
    "                )\n",
    "top2_per_supe"
   ]
  },
  {
   "cell_type": "markdown",
   "metadata": {},
   "source": [
    "### What about the temporal nature? \n",
    "- Can we use that to recommend patrolling at certain times of day?  \n",
    "- Or parking laws by time of day?"
   ]
  },
  {
   "cell_type": "code",
   "execution_count": 29,
   "metadata": {},
   "outputs": [],
   "source": [
    "folsom_overtime = reports.loc[reports['street']=='FOLSOM'].sort_values('closed_date')"
   ]
  },
  {
   "cell_type": "markdown",
   "metadata": {},
   "source": [
    "### For the 3 most-reported streets, how does it look by hour?\n",
    "- Not surprisingly, Folsom and Howard switch off morning and afternoon because of rush hour and being one way\n",
    "- Valencia gets many more reports in the evening though! Apparently TNCs are even worse than deliveries.\n",
    "- Could be interesting to look by weekend / weekday"
   ]
  },
  {
   "cell_type": "code",
   "execution_count": 30,
   "metadata": {
    "scrolled": true
   },
   "outputs": [
    {
     "data": {
      "image/png": "[encoded data removed]",
      "text/plain": [
       "<matplotlib.figure.Figure at 0x11055bfd0>"
      ]
     },
     "metadata": {},
     "output_type": "display_data"
    }
   ],
   "source": [
    "for st in num_reports_street.head(3)['street']:\n",
    "    bystreet = reports.loc[reports['street']==st].sort_values('closed_date')\n",
    "    sns.distplot(bystreet['hour'], label=st, kde=True, norm_hist=False);\n",
    "plt.legend(loc=[1.1,.2]);\n",
    "plt.title('Reports by hour of day');"
   ]
  },
  {
   "cell_type": "code",
   "execution_count": 31,
   "metadata": {
    "scrolled": true
   },
   "outputs": [
    {
     "data": {
      "image/png": "[encoded data removed]",
      "text/plain": [
       "<matplotlib.figure.Figure at 0x107e91ba8>"
      ]
     },
     "metadata": {},
     "output_type": "display_data"
    }
   ],
   "source": [
    "for st in num_reports_street.iloc[3:6]['street']:\n",
    "    bystreet = reports.loc[reports['street']==st].sort_values('closed_date')\n",
    "    sns.distplot(bystreet['hour'], label=st, kde=True, norm_hist=False);\n",
    "plt.legend(loc=[1.1,.2]);"
   ]
  },
  {
   "cell_type": "markdown",
   "metadata": {},
   "source": [
    "### How are they changing over days of the month?  \n",
    "- I don't think we have enough data to say anything, statistically.\n",
    "- But we could say \"Folsom had its worse day today!\" whenever that is true"
   ]
  },
  {
   "cell_type": "code",
   "execution_count": 34,
   "metadata": {},
   "outputs": [],
   "source": [
    "st = 'FOLSOM'\n",
    "bystreet = reports.loc[reports['street']==st].sort_values('closed_date')\n",
    "# sns.tsplot(data=bystreet, x='date', )"
   ]
  },
  {
   "cell_type": "code",
   "execution_count": 35,
   "metadata": {},
   "outputs": [
    {
     "data": {
      "image/png": "[encoded data removed]",
      "text/plain": [
       "<matplotlib.figure.Figure at 0x10adac5f8>"
      ]
     },
     "metadata": {},
     "output_type": "display_data"
    }
   ],
   "source": [
    "sns.countplot(data=bystreet, x='date');\n",
    "plt.xticks(rotation=70);"
   ]
  },
  {
   "cell_type": "code",
   "execution_count": 36,
   "metadata": {
    "scrolled": true
   },
   "outputs": [
    {
     "name": "stderr",
     "output_type": "stream",
     "text": [
      "/Users/erinboyle/python/virtualenv/python3-env/lib/python3.6/site-packages/seaborn/timeseries.py:183: UserWarning: The tsplot function is deprecated and will be removed or replaced (in a substantially altered version) in a future release.\n",
      "  warnings.warn(msg, UserWarning)\n"
     ]
    },
    {
     "data": {
      "image/png": "[encoded data removed]",
      "text/plain": [
       "<matplotlib.figure.Figure at 0x1100f1eb8>"
      ]
     },
     "metadata": {},
     "output_type": "display_data"
    }
   ],
   "source": [
    "grpd = bystreet.groupby('date').count()['hour']\n",
    "sns.tsplot(data=grpd, value='hour');\n",
    "plt.ylabel('Number of reports');"
   ]
  },
  {
   "cell_type": "code",
   "execution_count": null,
   "metadata": {},
   "outputs": [],
   "source": []
  },
  {
   "cell_type": "code",
   "execution_count": null,
   "metadata": {},
   "outputs": [],
   "source": []
  },
  {
   "cell_type": "code",
   "execution_count": null,
   "metadata": {},
   "outputs": [],
   "source": []
  }
 ],
 "metadata": {
  "kernelspec": {
   "display_name": "Python 3",
   "language": "python",
   "name": "python3"
  },
  "language_info": {
   "codemirror_mode": {
    "name": "ipython",
    "version": 3
   },
   "file_extension": ".py",
   "mimetype": "text/x-python",
   "name": "python",
   "nbconvert_exporter": "python",
   "pygments_lexer": "ipython3",
   "version": "3.6.3"
  }
 },
 "nbformat": 4,
 "nbformat_minor": 2
}
